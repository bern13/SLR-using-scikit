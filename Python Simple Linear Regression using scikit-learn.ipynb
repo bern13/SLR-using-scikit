{
 "cells": [
  {
   "cell_type": "markdown",
   "metadata": {},
   "source": [
    "# Simple Linear Regression in Python (w/o validation)"
   ]
  },
  {
   "cell_type": "markdown",
   "metadata": {},
   "source": [
    "First of, you need data. For this, I've used data from here:\n",
    "https://onlinecourses.science.psu.edu/stat462/sites/onlinecourses.science.psu.edu.stat462/files/data/poverty.txt\n",
    "\n",
    "Saved and downloaded as .csv.\n",
    "\n",
    "You can also use datasets from sklearn which are found here:\n",
    "https://github.com/scikit-learn/scikit-learn/tree/master/sklearn/datasets/data"
   ]
  },
  {
   "cell_type": "code",
   "execution_count": 18,
   "metadata": {
    "collapsed": false
   },
   "outputs": [],
   "source": [
    "# first, you will need to import modules from their libraries or libraries itself\n",
    "# pandas and numpy are libraries commonly used for data analysis and data wrangling\n",
    "# os is for stuff related to your operating system, in the case finding the default folder\n",
    "# matplotlib is for plotting graphs in python. the inline line after that is to make the chart appear in your jupyter notebook.\n",
    "# sklearn is the library I will use for linear regression modelling in this case\n",
    "import pandas as pd \n",
    "import os\n",
    "import numpy as np\n",
    "import matplotlib.pyplot as plt\n",
    "%matplotlib inline\n",
    "from sklearn.linear_model import LinearRegression\n",
    "from sklearn.metrics import mean_squared_error"
   ]
  },
  {
   "cell_type": "code",
   "execution_count": 7,
   "metadata": {
    "collapsed": false
   },
   "outputs": [
    {
     "name": "stdout",
     "output_type": "stream",
     "text": [
      "/Users/Bernie\n"
     ]
    }
   ],
   "source": [
    "# now that that logistics is done,\n",
    "# let's get that data\n",
    "\n",
    "\n",
    "# first, find your working directory\n",
    "cwd = os.getcwd()\n",
    "print(cwd)"
   ]
  },
  {
   "cell_type": "code",
   "execution_count": 9,
   "metadata": {
    "collapsed": true
   },
   "outputs": [],
   "source": [
    "# I have a .csv file saved on my desktop in a folder called Writings\n",
    "# the address is\n",
    "# Users/Bernie/Desktop/Writings/SLR-data-birthrateUS.csv\n",
    "# since my working director is in the Bernie location already, I can exclude that from my address\n",
    "\n",
    "df = pd.read_csv(\"Desktop/Writings/SLR-data-birthrateUS.csv\", sep='\\t')\n",
    "# sep = \\t simply means that a tab spacing is a seperator. \n",
    "# This is due to the nature of my dataset where the columns are seperated by tabs\n",
    "# it depends on your dataset. could be a comma [,], could be a pipe [|]. sometimes, the 'sep = ' parameter is not needed"
   ]
  },
  {
   "cell_type": "code",
   "execution_count": 10,
   "metadata": {
    "collapsed": false
   },
   "outputs": [
    {
     "data": {
      "text/html": [
       "<div>\n",
       "<style scoped>\n",
       "    .dataframe tbody tr th:only-of-type {\n",
       "        vertical-align: middle;\n",
       "    }\n",
       "\n",
       "    .dataframe tbody tr th {\n",
       "        vertical-align: top;\n",
       "    }\n",
       "\n",
       "    .dataframe thead th {\n",
       "        text-align: right;\n",
       "    }\n",
       "</style>\n",
       "<table border=\"1\" class=\"dataframe\">\n",
       "  <thead>\n",
       "    <tr style=\"text-align: right;\">\n",
       "      <th></th>\n",
       "      <th>Location</th>\n",
       "      <th>PovPct</th>\n",
       "      <th>Brth15to17</th>\n",
       "      <th>Brth18to19</th>\n",
       "      <th>ViolCrime</th>\n",
       "      <th>TeenBrth</th>\n",
       "    </tr>\n",
       "  </thead>\n",
       "  <tbody>\n",
       "    <tr>\n",
       "      <th>0</th>\n",
       "      <td>Alabama</td>\n",
       "      <td>20.1</td>\n",
       "      <td>31.5</td>\n",
       "      <td>88.7</td>\n",
       "      <td>11.2</td>\n",
       "      <td>54.5</td>\n",
       "    </tr>\n",
       "    <tr>\n",
       "      <th>1</th>\n",
       "      <td>Alaska</td>\n",
       "      <td>7.1</td>\n",
       "      <td>18.9</td>\n",
       "      <td>73.7</td>\n",
       "      <td>9.1</td>\n",
       "      <td>39.5</td>\n",
       "    </tr>\n",
       "    <tr>\n",
       "      <th>2</th>\n",
       "      <td>Arizona</td>\n",
       "      <td>16.1</td>\n",
       "      <td>35.0</td>\n",
       "      <td>102.5</td>\n",
       "      <td>10.4</td>\n",
       "      <td>61.2</td>\n",
       "    </tr>\n",
       "    <tr>\n",
       "      <th>3</th>\n",
       "      <td>Arkansas</td>\n",
       "      <td>14.9</td>\n",
       "      <td>31.6</td>\n",
       "      <td>101.7</td>\n",
       "      <td>10.4</td>\n",
       "      <td>59.9</td>\n",
       "    </tr>\n",
       "    <tr>\n",
       "      <th>4</th>\n",
       "      <td>California</td>\n",
       "      <td>16.7</td>\n",
       "      <td>22.6</td>\n",
       "      <td>69.1</td>\n",
       "      <td>11.2</td>\n",
       "      <td>41.1</td>\n",
       "    </tr>\n",
       "    <tr>\n",
       "      <th>5</th>\n",
       "      <td>Colorado</td>\n",
       "      <td>8.8</td>\n",
       "      <td>26.2</td>\n",
       "      <td>79.1</td>\n",
       "      <td>5.8</td>\n",
       "      <td>47.0</td>\n",
       "    </tr>\n",
       "  </tbody>\n",
       "</table>\n",
       "</div>"
      ],
      "text/plain": [
       "     Location  PovPct  Brth15to17  Brth18to19  ViolCrime  TeenBrth\n",
       "0     Alabama    20.1        31.5        88.7       11.2      54.5\n",
       "1      Alaska     7.1        18.9        73.7        9.1      39.5\n",
       "2     Arizona    16.1        35.0       102.5       10.4      61.2\n",
       "3    Arkansas    14.9        31.6       101.7       10.4      59.9\n",
       "4  California    16.7        22.6        69.1       11.2      41.1\n",
       "5    Colorado     8.8        26.2        79.1        5.8      47.0"
      ]
     },
     "execution_count": 10,
     "metadata": {},
     "output_type": "execute_result"
    }
   ],
   "source": [
    "# let's check the data out by viewing the first 5 rows (including the headers)\n",
    "df.head(6)"
   ]
  },
  {
   "cell_type": "code",
   "execution_count": 11,
   "metadata": {
    "collapsed": true
   },
   "outputs": [],
   "source": [
    "# Brth15to17 = birth rate per 1000 females 15 to 17 years old\n",
    "# PovPct = poverty rate\n",
    "# In my regression model, I want to see how PovPct (Poverty rate) affects the Brth15to17\n",
    "# Hence my independant variable (x) will be Poverty and my dependant variable (y) is Brth15to17\n",
    "\n",
    "# lets get our X and Y\n",
    "X = df['PovPct'].values\n",
    "Y = df['Brth15to17'].values"
   ]
  },
  {
   "cell_type": "code",
   "execution_count": 15,
   "metadata": {
    "collapsed": false
   },
   "outputs": [
    {
     "data": {
      "image/png": "[encoded data removed]",
      "text/plain": [
       "<matplotlib.figure.Figure at 0x1134abc90>"
      ]
     },
     "metadata": {},
     "output_type": "display_data"
    }
   ],
   "source": [
    "# Let's visualize these two columns of values and see whether a linear regression is viable\n",
    "\n",
    "\n",
    "# scatter plot of Poverty Rate vs Birth rate per 1000 females aged 15 to 17 \n",
    "plt.scatter(X, Y, c='red', label='Scatter Plot')\n",
    "plt.xlabel('Poverty Rate')\n",
    "plt.ylabel('15-17 yo Birth rate/100')\n",
    "plt.legend()\n",
    "plt.show()"
   ]
  },
  {
   "cell_type": "code",
   "execution_count": 20,
   "metadata": {
    "collapsed": false
   },
   "outputs": [],
   "source": [
    "# Doesn't look too bad, as Poverty rate increases, so does the birth rate \n",
    "# it looks like we could draw a line through it and still get a pretty okay predicitons.\n",
    "# birth rate does not dropped significantly after going up, so a linear estimation is viable\n",
    "\n",
    "# LET'S MAKE THE MODEL! \n",
    "X = X.reshape(len(X),1)\n",
    "# Creating regression model using sklearn\n",
    "reg = LinearRegression()\n",
    "\n",
    "# Fitting it to X and Y that we defined prevoiusly\n",
    "reg = reg.fit(X, Y)\n",
    "\n",
    "# getting our Y Pred / y hat\n",
    "Y_pred = reg.predict(X)"
   ]
  },
  {
   "cell_type": "code",
   "execution_count": 21,
   "metadata": {
    "collapsed": false
   },
   "outputs": [
    {
     "data": {
      "image/png": "[encoded data removed]",
      "text/plain": [
       "<matplotlib.figure.Figure at 0x104b033d0>"
      ]
     },
     "metadata": {},
     "output_type": "display_data"
    }
   ],
   "source": [
    "# let's visuzlize our results\n",
    "plt.plot(X, Y_pred, color='green', label='Regression Line')\n",
    "plt.scatter(X, Y, c='red', label='Actual Data')\n",
    "\n",
    "plt.xlabel('Poverty Rate')\n",
    "plt.ylabel('15-17 yo Birth rate/100')\n",
    "plt.legend()\n",
    "plt.show()"
   ]
  }
 ],
 "metadata": {
  "anaconda-cloud": {},
  "kernelspec": {
   "display_name": "Python [Root]",
   "language": "python",
   "name": "Python [Root]"
  },
  "language_info": {
   "codemirror_mode": {
    "name": "ipython",
    "version": 2
   },
   "file_extension": ".py",
   "mimetype": "text/x-python",
   "name": "python",
   "nbconvert_exporter": "python",
   "pygments_lexer": "ipython2",
   "version": "2.7.12"
  }
 },
 "nbformat": 4,
 "nbformat_minor": 0
}
